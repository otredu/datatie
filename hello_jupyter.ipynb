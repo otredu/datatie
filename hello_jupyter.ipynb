{
 "cells": [
  {
   "cell_type": "code",
   "execution_count": 35,
   "id": "bad981e6-0134-4758-b2a6-604b4b7dbfad",
   "metadata": {},
   "outputs": [],
   "source": [
    "import json\n",
    "import os\n",
    "import pprint \n",
    "import sys\n",
    "my_environment = os.environ\n",
    "#pprint.pprint(dict(my_environment), width = 1) \n",
    "my_os = os.environ['OS']\n",
    "#print(my_os) # 'Windows_NT'\n",
    "my_python = sys.version\n",
    "#print(my_platform) # 'win32'\n",
    "my_platform=sys.platform\n",
    "#print(my_python) # '3.9.12 (main, Apr  4 2022, 05:22:27) [MSC v.1916 64 bit (AMD64)]'\n",
    "\n",
    "#in CMD type and run:\n",
    "#jupyter --version\n",
    "\n",
    "environment = {\n",
    "    \"os_environment\": \"Windows_NT, win32\",\n",
    "    \"python_version\": \"3.9.12 (main, Apr  4 2022, 05:22:27) [MSC v.1916 64 bit (AMD64)]\",\n",
    "    \"jupyter_environment\": \"Selected Jupyter core packages...\\nIPython: 8.18.1\\nipykernel: 6.29.5\\nipywidgets: not installed\\njupyter_client: 8.6.3\\njupyter_core: 5.7.2\\njupyter_server: not installed\\njupyterlab: not installed\\nnbclient: not installed\\nnbconvert: not installed\\nnbformat: not installed\\nnotebook: not installed\\nqtconsole: not installed\\ntraitlets: 5.14.3\",\n",
    "    \"skill_level\": \"beginner\"\n",
    "    }\n",
    "\n",
    "with open('data.json', 'w', encoding=\"utf-8\") as f:\n",
    "    json.dump(environment, f, indent=1)"
   ]
  }
 ],
 "metadata": {
  "kernelspec": {
   "display_name": "Python 3 (ipykernel)",
   "language": "python",
   "name": "python3"
  },
  "language_info": {
   "codemirror_mode": {
    "name": "ipython",
    "version": 3
   },
   "file_extension": ".py",
   "mimetype": "text/x-python",
   "name": "python",
   "nbconvert_exporter": "python",
   "pygments_lexer": "ipython3",
   "version": "3.9.12"
  }
 },
 "nbformat": 4,
 "nbformat_minor": 5
}
