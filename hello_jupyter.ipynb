{
 "cells": [
  {
   "cell_type": "code",
   "execution_count": 1,
   "id": "bad981e6-0134-4758-b2a6-604b4b7dbfad",
   "metadata": {},
   "outputs": [],
   "source": [
    "import json"
   ]
  },
  {
   "cell_type": "code",
   "execution_count": 2,
   "id": "11861f82-ad56-4fe3-bb86-93a4237f8b78",
   "metadata": {},
   "outputs": [],
   "source": [
    "environment = {\n",
    "    \"os_environment\": \"Windows_NT, win32\",\n",
    "    \"python_version\": \"3.9.12 (main, Apr  4 2022, 05:22:27) [MSC v.1916 64 bit (AMD64)]\",\n",
    "    \"jupyter_environment\": \"Selected Jupyter core packages...\\nIPython: 8.18.1\\nipykernel: 6.29.5\\nipywidgets: not installed\\njupyter_client: 8.6.3\\njupyter_core: 5.7.2\\njupyter_server: not installed\\njupyterlab: not installed\\nnbclient: not installed\\nnbconvert: not installed\\nnbformat: not installed\\nnotebook: not installed\\nqtconsole: not installed\\ntraitlets: 5.14.3\",\n",
    "    \"skill_level\": \"beginner\"\n",
    "    }"
   ]
  },
  {
   "cell_type": "code",
   "execution_count": 3,
   "id": "29a98947",
   "metadata": {},
   "outputs": [],
   "source": [
    "with open('data.json', 'w', encoding=\"utf-8\") as f:\n",
    "    json.dump(environment, f, indent=1)"
   ]
  }
 ],
 "metadata": {
  "kernelspec": {
   "display_name": "base",
   "language": "python",
   "name": "python3"
  },
  "language_info": {
   "codemirror_mode": {
    "name": "ipython",
    "version": 3
   },
   "file_extension": ".py",
   "mimetype": "text/x-python",
   "name": "python",
   "nbconvert_exporter": "python",
   "pygments_lexer": "ipython3",
   "version": "3.9.12"
  }
 },
 "nbformat": 4,
 "nbformat_minor": 5
}
