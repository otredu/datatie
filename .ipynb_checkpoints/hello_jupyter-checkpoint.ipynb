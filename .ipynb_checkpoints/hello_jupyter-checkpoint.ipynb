{
 "cells": [
  {
   "cell_type": "code",
   "execution_count": null,
   "id": "04b616b6-e6fc-4a31-8244-26e6db28a029",
   "metadata": {},
   "outputs": [
    {
     "name": "stdout",
     "output_type": "stream",
     "text": [
      "Hello Jupyter!\n"
     ]
    }
   ],
   "source": [
    "print('Hello Jupyter!')"
   ]
  },
  {
   "cell_type": "code",
   "execution_count": null,
   "id": "bad981e6-0134-4758-b2a6-604b4b7dbfad",
   "metadata": {},
   "outputs": [],
   "source": [
    "import json\n",
    "import os\n",
    "# os.environment"
   ]
  },
  {
   "cell_type": "code",
   "execution_count": null,
   "id": "e9478c14-b222-42a1-bc7d-8a5f09f78893",
   "metadata": {},
   "outputs": [],
   "source": [
    "environment = {\n",
    "    'KEY': 'VALUE'\n",
    "}"
   ]
  },
  {
   "cell_type": "code",
   "execution_count": null,
   "id": "381673bc-a0b2-46b5-9ae6-af851ed4bf75",
   "metadata": {},
   "outputs": [],
   "source": [
    "with open('data.json', 'w') as f:\n",
    "    json.dump(environment, f, indent=1)"
   ]
  }
 ],
 "metadata": {
  "kernelspec": {
   "display_name": "Python 3 (ipykernel)",
   "language": "python",
   "name": "python3"
  },
  "language_info": {
   "codemirror_mode": {
    "name": "ipython",
    "version": 3
   },
   "file_extension": ".py",
   "mimetype": "text/x-python",
   "name": "python",
   "nbconvert_exporter": "python",
   "pygments_lexer": "ipython3",
   "version": "3.9.12"
  }
 },
 "nbformat": 4,
 "nbformat_minor": 5
}
