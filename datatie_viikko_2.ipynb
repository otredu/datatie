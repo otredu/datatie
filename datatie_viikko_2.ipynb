{
 "cells": [
  {
   "cell_type": "markdown",
   "id": "187c450f",
   "metadata": {},
   "source": [
    "## How vocational students who have studied ICT are placed after one and three years from graduation"
   ]
  },
  {
   "cell_type": "code",
   "execution_count": 65,
   "id": "8efb9d73",
   "metadata": {},
   "outputs": [],
   "source": [
    "import pandas as pd\n",
    "import numpy as np\n",
    "import os\n",
    "from sklearn import preprocessing\n",
    "from sklearn import linear_model\n",
    "import matplotlib.pyplot as plt "
   ]
  },
  {
   "cell_type": "markdown",
   "id": "e139bea4",
   "metadata": {},
   "source": [
    "### Load Raw Data\n",
    "\n",
    "This data was taken from Tilastokeskus in .csv - format:\n",
    "https://pxdata.stat.fi:443/PxWeb/sq/69e3b920-5e97-4e39-9fdc-61bbfbcfdfa9 \n",
    "\n",
    "To install sklearn and pandas, open miniconda CMD and run:\n",
    "```cmd\n",
    "    pip install pandas\n",
    "    pip install sklearn\n",
    "    pip install matplotlib\n",
    "```\n"
   ]
  },
  {
   "cell_type": "markdown",
   "id": "d55db4e9",
   "metadata": {},
   "source": [
    "NOTE: The data has a title-row, which has to be skipped (skiprows), also the encoding needs to be 'ISO-8850-1' (default UTF-8 doesn't work) and delimiter needs to be given also.\n",
    "\n",
    "To see how the data is read into the variable, it helps to install Data Wrangler - extension. It can be used to view the data in a table format."
   ]
  },
  {
   "cell_type": "code",
   "execution_count": 66,
   "id": "11861f82-ad56-4fe3-bb86-93a4237f8b78",
   "metadata": {},
   "outputs": [],
   "source": [
    "# load data\n",
    "if os.path.exists('./csv/tivi_2020_2023.csv'):\n",
    "   df =  pd.read_csv('./csv/tivi_2020_2023.csv', encoding='ISO-8859-1', delimiter=';', engine='python', skiprows=2)"
   ]
  },
  {
   "cell_type": "markdown",
   "id": "41ba2a95",
   "metadata": {},
   "source": [
    "The data has information about all the vocational ICT students who graduatated one year before the statistical year (2020, 2021, 2022, 2023), how the students have been placed after one year of graduation: employed, employed fulltime, employed students, students fulltime, unemployed, others. The same information is found also for three years after graduation. \n",
    "Data is gathered by regions (Ahvenanmaa, Varsinaissuomi, Satakunta, Kanta-Häme, Pirkanmaa, Päijät-Häme, Kymenlaakso, Etelä-Karjala, Etelä-Savo, Pohjois-Karjala, Pohjois-Savo, Keskisuomi, Etelä-Pohjanmaa, Pohjanmaa,Keski-Pohjanmaa, Pohjois-Pohjanmaa, Kainuu, Lappi). Data is categorized also by gender. Each value is presented as count as well as percentage.\n",
    "\n",
    "It seems that there are no rows missing data."
   ]
  },
  {
   "cell_type": "code",
   "execution_count": 67,
   "id": "8c183730",
   "metadata": {},
   "outputs": [
    {
     "data": {
      "application/vnd.microsoft.datawrangler.viewer.v0+json": {
       "columns": [
        {
         "name": "index",
         "rawType": "int64",
         "type": "integer"
        },
        {
         "name": "Vuosi",
         "rawType": "int64",
         "type": "integer"
        },
        {
         "name": "Koulutusaste",
         "rawType": "object",
         "type": "string"
        },
        {
         "name": "Sukupuoli",
         "rawType": "object",
         "type": "string"
        },
        {
         "name": "Asuinmaakunta",
         "rawType": "object",
         "type": "string"
        },
        {
         "name": "Koulutusala",
         "rawType": "object",
         "type": "string"
        },
        {
         "name": "Tutkinnon suorittaneet vuosi ennen tilastovuotta yhteensä (lkm)",
         "rawType": "object",
         "type": "string"
        },
        {
         "name": "Työlliset yhteensä vuosi valmistumisen jälkeen (lkm)",
         "rawType": "object",
         "type": "string"
        },
        {
         "name": "Työlliset yhteensä vuosi valmistumisen jälkeen (%)",
         "rawType": "object",
         "type": "string"
        },
        {
         "name": "Päätoimiset työlliset vuosi valmistumisen jälkeen (lkm)",
         "rawType": "object",
         "type": "string"
        },
        {
         "name": "Päätoimiset työlliset vuosi valmistumisen jälkeen (%)",
         "rawType": "object",
         "type": "string"
        },
        {
         "name": "Työlliset opiskelijat vuosi valmistumisen jälkeen (lkm)",
         "rawType": "object",
         "type": "string"
        },
        {
         "name": "Työlliset opiskelijat vuosi valmistumisen jälkeen (%)",
         "rawType": "object",
         "type": "string"
        },
        {
         "name": "Päätoimiset opiskelijat vuosi valmistumisen jälkeen (lkm)",
         "rawType": "object",
         "type": "string"
        },
        {
         "name": "Päätoimiset opiskelijat vuosi valmistumisen jälkeen (%)",
         "rawType": "object",
         "type": "string"
        },
        {
         "name": "Työttömät vuosi valmistumisen jälkeen  (lkm)",
         "rawType": "object",
         "type": "string"
        },
        {
         "name": "Työttömät vuosi valmistumisen jälkeen (%)",
         "rawType": "object",
         "type": "string"
        },
        {
         "name": "Muut vuosi valmistumisen jälkeen  (lkm)",
         "rawType": "object",
         "type": "string"
        },
        {
         "name": "Muut vuosi valmistumisen jälkeen (%)",
         "rawType": "object",
         "type": "string"
        },
        {
         "name": "Tutkinnon suorittaneet kolme vuotta ennen tilastovuotta yhteensä (lkm)",
         "rawType": "object",
         "type": "string"
        },
        {
         "name": "Työlliset yhteensä kolme vuotta valmistumisen jälkeen (lkm)",
         "rawType": "object",
         "type": "string"
        },
        {
         "name": "Työlliset yhteensä kolme vuotta valmistumisen jälkeen (%)",
         "rawType": "object",
         "type": "string"
        },
        {
         "name": "Päätoimiset työlliset kolme vuotta valmistumisen jälkeen (lkm)",
         "rawType": "object",
         "type": "string"
        },
        {
         "name": "Päätoimiset työlliset kolme vuotta valmistumisen jälkeen (%)",
         "rawType": "object",
         "type": "string"
        },
        {
         "name": "Työlliset opiskelijat kolme vuotta valmistumisen jälkeen (lkm)",
         "rawType": "object",
         "type": "string"
        },
        {
         "name": "Työlliset opiskelijat kolme vuotta valmistumisen jälkeen (%)",
         "rawType": "object",
         "type": "string"
        },
        {
         "name": "Päätoimiset opiskelijat kolme vuotta valmistumisen jälkeen (lkm)",
         "rawType": "object",
         "type": "string"
        },
        {
         "name": "Päätoimiset opiskelijat kolme vuotta valmistumisen jälkeen (%)",
         "rawType": "object",
         "type": "string"
        },
        {
         "name": "Työttömät kolme vuotta valmistumisen jälkeen  (lkm)",
         "rawType": "object",
         "type": "string"
        },
        {
         "name": "Työttömät kolme vuotta valmistumisen jälkeen (%)",
         "rawType": "object",
         "type": "string"
        },
        {
         "name": "Muut kolme vuotta valmistumisen jälkeen  (lkm)",
         "rawType": "object",
         "type": "string"
        },
        {
         "name": "Muut kolme vuotta valmistumisen jälkeen (%)",
         "rawType": "object",
         "type": "string"
        }
       ],
       "conversionMethod": "pd.DataFrame",
       "ref": "038fee99-5592-4b37-afbc-ee2b644f40c6",
       "rows": [
        [
         "0",
         "2020",
         "32 Ammatillinen peruskoulutus",
         "Sukupuolet yhteensä",
         "Koko maa",
         "Tietojenkäsittely ja tietoliikenne (ICT)",
         "2000",
         "711",
         "36",
         "600",
         "30",
         "111",
         "6",
         "350",
         "18",
         "658",
         "33",
         "281",
         "14",
         "2194",
         "1085",
         "49",
         "813",
         "37",
         "272",
         "12",
         "499",
         "23",
         "435",
         "20",
         "175",
         "8"
        ],
        [
         "1",
         "2020",
         "32 Ammatillinen peruskoulutus",
         "Sukupuolet yhteensä",
         "Uusimaa",
         "Tietojenkäsittely ja tietoliikenne (ICT)",
         "627",
         "284",
         "45",
         "238",
         "38",
         "46",
         "7",
         "78",
         "12",
         "176",
         "28",
         "89",
         "14",
         "710",
         "394",
         "55",
         "298",
         "42",
         "96",
         "14",
         "138",
         "19",
         "126",
         "18",
         "52",
         "7"
        ],
        [
         "2",
         "2020",
         "32 Ammatillinen peruskoulutus",
         "Sukupuolet yhteensä",
         "Varsinais-Suomi",
         "Tietojenkäsittely ja tietoliikenne (ICT)",
         "175",
         "55",
         "31",
         "47",
         "27",
         "8",
         "5",
         "36",
         "21",
         "54",
         "31",
         "30",
         "17",
         "202",
         "107",
         "53",
         "83",
         "41",
         "24",
         "12",
         "38",
         "19",
         "36",
         "18",
         "21",
         "10"
        ],
        [
         "3",
         "2020",
         "32 Ammatillinen peruskoulutus",
         "Sukupuolet yhteensä",
         "Satakunta",
         "Tietojenkäsittely ja tietoliikenne (ICT)",
         "49",
         "16",
         "33",
         "12",
         "24",
         "4",
         "8",
         "5",
         "10",
         "17",
         "35",
         "11",
         "22",
         "57",
         "27",
         "47",
         "22",
         "39",
         "5",
         "9",
         "16",
         "28",
         "11",
         "19",
         "3",
         "5"
        ],
        [
         "4",
         "2020",
         "32 Ammatillinen peruskoulutus",
         "Sukupuolet yhteensä",
         "Kanta-Häme",
         "Tietojenkäsittely ja tietoliikenne (ICT)",
         "87",
         "27",
         "31",
         "23",
         "26",
         "4",
         "5",
         "16",
         "18",
         "30",
         "34",
         "14",
         "16",
         "64",
         "25",
         "39",
         "21",
         "33",
         "4",
         "6",
         "15",
         "23",
         "14",
         "22",
         "10",
         "16"
        ]
       ],
       "shape": {
        "columns": 31,
        "rows": 5
       }
      },
      "text/html": [
       "<div>\n",
       "<style scoped>\n",
       "    .dataframe tbody tr th:only-of-type {\n",
       "        vertical-align: middle;\n",
       "    }\n",
       "\n",
       "    .dataframe tbody tr th {\n",
       "        vertical-align: top;\n",
       "    }\n",
       "\n",
       "    .dataframe thead th {\n",
       "        text-align: right;\n",
       "    }\n",
       "</style>\n",
       "<table border=\"1\" class=\"dataframe\">\n",
       "  <thead>\n",
       "    <tr style=\"text-align: right;\">\n",
       "      <th></th>\n",
       "      <th>Vuosi</th>\n",
       "      <th>Koulutusaste</th>\n",
       "      <th>Sukupuoli</th>\n",
       "      <th>Asuinmaakunta</th>\n",
       "      <th>Koulutusala</th>\n",
       "      <th>Tutkinnon suorittaneet vuosi ennen tilastovuotta yhteensä (lkm)</th>\n",
       "      <th>Työlliset yhteensä vuosi valmistumisen jälkeen (lkm)</th>\n",
       "      <th>Työlliset yhteensä vuosi valmistumisen jälkeen (%)</th>\n",
       "      <th>Päätoimiset työlliset vuosi valmistumisen jälkeen (lkm)</th>\n",
       "      <th>Päätoimiset työlliset vuosi valmistumisen jälkeen (%)</th>\n",
       "      <th>...</th>\n",
       "      <th>Päätoimiset työlliset kolme vuotta valmistumisen jälkeen (lkm)</th>\n",
       "      <th>Päätoimiset työlliset kolme vuotta valmistumisen jälkeen (%)</th>\n",
       "      <th>Työlliset opiskelijat kolme vuotta valmistumisen jälkeen (lkm)</th>\n",
       "      <th>Työlliset opiskelijat kolme vuotta valmistumisen jälkeen (%)</th>\n",
       "      <th>Päätoimiset opiskelijat kolme vuotta valmistumisen jälkeen (lkm)</th>\n",
       "      <th>Päätoimiset opiskelijat kolme vuotta valmistumisen jälkeen (%)</th>\n",
       "      <th>Työttömät kolme vuotta valmistumisen jälkeen  (lkm)</th>\n",
       "      <th>Työttömät kolme vuotta valmistumisen jälkeen (%)</th>\n",
       "      <th>Muut kolme vuotta valmistumisen jälkeen  (lkm)</th>\n",
       "      <th>Muut kolme vuotta valmistumisen jälkeen (%)</th>\n",
       "    </tr>\n",
       "  </thead>\n",
       "  <tbody>\n",
       "    <tr>\n",
       "      <th>0</th>\n",
       "      <td>2020</td>\n",
       "      <td>32 Ammatillinen peruskoulutus</td>\n",
       "      <td>Sukupuolet yhteensä</td>\n",
       "      <td>Koko maa</td>\n",
       "      <td>Tietojenkäsittely ja tietoliikenne (ICT)</td>\n",
       "      <td>2000</td>\n",
       "      <td>711</td>\n",
       "      <td>36</td>\n",
       "      <td>600</td>\n",
       "      <td>30</td>\n",
       "      <td>...</td>\n",
       "      <td>813</td>\n",
       "      <td>37</td>\n",
       "      <td>272</td>\n",
       "      <td>12</td>\n",
       "      <td>499</td>\n",
       "      <td>23</td>\n",
       "      <td>435</td>\n",
       "      <td>20</td>\n",
       "      <td>175</td>\n",
       "      <td>8</td>\n",
       "    </tr>\n",
       "    <tr>\n",
       "      <th>1</th>\n",
       "      <td>2020</td>\n",
       "      <td>32 Ammatillinen peruskoulutus</td>\n",
       "      <td>Sukupuolet yhteensä</td>\n",
       "      <td>Uusimaa</td>\n",
       "      <td>Tietojenkäsittely ja tietoliikenne (ICT)</td>\n",
       "      <td>627</td>\n",
       "      <td>284</td>\n",
       "      <td>45</td>\n",
       "      <td>238</td>\n",
       "      <td>38</td>\n",
       "      <td>...</td>\n",
       "      <td>298</td>\n",
       "      <td>42</td>\n",
       "      <td>96</td>\n",
       "      <td>14</td>\n",
       "      <td>138</td>\n",
       "      <td>19</td>\n",
       "      <td>126</td>\n",
       "      <td>18</td>\n",
       "      <td>52</td>\n",
       "      <td>7</td>\n",
       "    </tr>\n",
       "    <tr>\n",
       "      <th>2</th>\n",
       "      <td>2020</td>\n",
       "      <td>32 Ammatillinen peruskoulutus</td>\n",
       "      <td>Sukupuolet yhteensä</td>\n",
       "      <td>Varsinais-Suomi</td>\n",
       "      <td>Tietojenkäsittely ja tietoliikenne (ICT)</td>\n",
       "      <td>175</td>\n",
       "      <td>55</td>\n",
       "      <td>31</td>\n",
       "      <td>47</td>\n",
       "      <td>27</td>\n",
       "      <td>...</td>\n",
       "      <td>83</td>\n",
       "      <td>41</td>\n",
       "      <td>24</td>\n",
       "      <td>12</td>\n",
       "      <td>38</td>\n",
       "      <td>19</td>\n",
       "      <td>36</td>\n",
       "      <td>18</td>\n",
       "      <td>21</td>\n",
       "      <td>10</td>\n",
       "    </tr>\n",
       "    <tr>\n",
       "      <th>3</th>\n",
       "      <td>2020</td>\n",
       "      <td>32 Ammatillinen peruskoulutus</td>\n",
       "      <td>Sukupuolet yhteensä</td>\n",
       "      <td>Satakunta</td>\n",
       "      <td>Tietojenkäsittely ja tietoliikenne (ICT)</td>\n",
       "      <td>49</td>\n",
       "      <td>16</td>\n",
       "      <td>33</td>\n",
       "      <td>12</td>\n",
       "      <td>24</td>\n",
       "      <td>...</td>\n",
       "      <td>22</td>\n",
       "      <td>39</td>\n",
       "      <td>5</td>\n",
       "      <td>9</td>\n",
       "      <td>16</td>\n",
       "      <td>28</td>\n",
       "      <td>11</td>\n",
       "      <td>19</td>\n",
       "      <td>3</td>\n",
       "      <td>5</td>\n",
       "    </tr>\n",
       "    <tr>\n",
       "      <th>4</th>\n",
       "      <td>2020</td>\n",
       "      <td>32 Ammatillinen peruskoulutus</td>\n",
       "      <td>Sukupuolet yhteensä</td>\n",
       "      <td>Kanta-Häme</td>\n",
       "      <td>Tietojenkäsittely ja tietoliikenne (ICT)</td>\n",
       "      <td>87</td>\n",
       "      <td>27</td>\n",
       "      <td>31</td>\n",
       "      <td>23</td>\n",
       "      <td>26</td>\n",
       "      <td>...</td>\n",
       "      <td>21</td>\n",
       "      <td>33</td>\n",
       "      <td>4</td>\n",
       "      <td>6</td>\n",
       "      <td>15</td>\n",
       "      <td>23</td>\n",
       "      <td>14</td>\n",
       "      <td>22</td>\n",
       "      <td>10</td>\n",
       "      <td>16</td>\n",
       "    </tr>\n",
       "  </tbody>\n",
       "</table>\n",
       "<p>5 rows × 31 columns</p>\n",
       "</div>"
      ],
      "text/plain": [
       "   Vuosi                   Koulutusaste            Sukupuoli    Asuinmaakunta  \\\n",
       "0   2020  32 Ammatillinen peruskoulutus  Sukupuolet yhteensä         Koko maa   \n",
       "1   2020  32 Ammatillinen peruskoulutus  Sukupuolet yhteensä          Uusimaa   \n",
       "2   2020  32 Ammatillinen peruskoulutus  Sukupuolet yhteensä  Varsinais-Suomi   \n",
       "3   2020  32 Ammatillinen peruskoulutus  Sukupuolet yhteensä        Satakunta   \n",
       "4   2020  32 Ammatillinen peruskoulutus  Sukupuolet yhteensä       Kanta-Häme   \n",
       "\n",
       "                                Koulutusala  \\\n",
       "0  Tietojenkäsittely ja tietoliikenne (ICT)   \n",
       "1  Tietojenkäsittely ja tietoliikenne (ICT)   \n",
       "2  Tietojenkäsittely ja tietoliikenne (ICT)   \n",
       "3  Tietojenkäsittely ja tietoliikenne (ICT)   \n",
       "4  Tietojenkäsittely ja tietoliikenne (ICT)   \n",
       "\n",
       "  Tutkinnon suorittaneet vuosi ennen tilastovuotta yhteensä (lkm)  \\\n",
       "0                                               2000                \n",
       "1                                                627                \n",
       "2                                                175                \n",
       "3                                                 49                \n",
       "4                                                 87                \n",
       "\n",
       "  Työlliset yhteensä vuosi valmistumisen jälkeen (lkm)  \\\n",
       "0                                                711     \n",
       "1                                                284     \n",
       "2                                                 55     \n",
       "3                                                 16     \n",
       "4                                                 27     \n",
       "\n",
       "  Työlliset yhteensä vuosi valmistumisen jälkeen (%)  \\\n",
       "0                                                 36   \n",
       "1                                                 45   \n",
       "2                                                 31   \n",
       "3                                                 33   \n",
       "4                                                 31   \n",
       "\n",
       "  Päätoimiset työlliset vuosi valmistumisen jälkeen (lkm)  \\\n",
       "0                                                600        \n",
       "1                                                238        \n",
       "2                                                 47        \n",
       "3                                                 12        \n",
       "4                                                 23        \n",
       "\n",
       "  Päätoimiset työlliset vuosi valmistumisen jälkeen (%)  ...  \\\n",
       "0                                                 30     ...   \n",
       "1                                                 38     ...   \n",
       "2                                                 27     ...   \n",
       "3                                                 24     ...   \n",
       "4                                                 26     ...   \n",
       "\n",
       "  Päätoimiset työlliset kolme vuotta valmistumisen jälkeen (lkm)  \\\n",
       "0                                                813               \n",
       "1                                                298               \n",
       "2                                                 83               \n",
       "3                                                 22               \n",
       "4                                                 21               \n",
       "\n",
       "  Päätoimiset työlliset kolme vuotta valmistumisen jälkeen (%)  \\\n",
       "0                                                 37             \n",
       "1                                                 42             \n",
       "2                                                 41             \n",
       "3                                                 39             \n",
       "4                                                 33             \n",
       "\n",
       "  Työlliset opiskelijat kolme vuotta valmistumisen jälkeen (lkm)  \\\n",
       "0                                                272               \n",
       "1                                                 96               \n",
       "2                                                 24               \n",
       "3                                                  5               \n",
       "4                                                  4               \n",
       "\n",
       "  Työlliset opiskelijat kolme vuotta valmistumisen jälkeen (%)  \\\n",
       "0                                                 12             \n",
       "1                                                 14             \n",
       "2                                                 12             \n",
       "3                                                  9             \n",
       "4                                                  6             \n",
       "\n",
       "  Päätoimiset opiskelijat kolme vuotta valmistumisen jälkeen (lkm)  \\\n",
       "0                                                499                 \n",
       "1                                                138                 \n",
       "2                                                 38                 \n",
       "3                                                 16                 \n",
       "4                                                 15                 \n",
       "\n",
       "  Päätoimiset opiskelijat kolme vuotta valmistumisen jälkeen (%)  \\\n",
       "0                                                 23               \n",
       "1                                                 19               \n",
       "2                                                 19               \n",
       "3                                                 28               \n",
       "4                                                 23               \n",
       "\n",
       "  Työttömät kolme vuotta valmistumisen jälkeen  (lkm)  \\\n",
       "0                                                435    \n",
       "1                                                126    \n",
       "2                                                 36    \n",
       "3                                                 11    \n",
       "4                                                 14    \n",
       "\n",
       "  Työttömät kolme vuotta valmistumisen jälkeen (%)  \\\n",
       "0                                               20   \n",
       "1                                               18   \n",
       "2                                               18   \n",
       "3                                               19   \n",
       "4                                               22   \n",
       "\n",
       "  Muut kolme vuotta valmistumisen jälkeen  (lkm)  \\\n",
       "0                                            175   \n",
       "1                                             52   \n",
       "2                                             21   \n",
       "3                                              3   \n",
       "4                                             10   \n",
       "\n",
       "  Muut kolme vuotta valmistumisen jälkeen (%)  \n",
       "0                                           8  \n",
       "1                                           7  \n",
       "2                                          10  \n",
       "3                                           5  \n",
       "4                                          16  \n",
       "\n",
       "[5 rows x 31 columns]"
      ]
     },
     "execution_count": 67,
     "metadata": {},
     "output_type": "execute_result"
    }
   ],
   "source": [
    "df.head()"
   ]
  },
  {
   "cell_type": "markdown",
   "id": "a69b4e81",
   "metadata": {},
   "source": [
    "We will consentrate only on these columns (in %): Vuosi, Asuinmaakunta, Päätoimiset työlliset vuosi valmistumisen jälkeen (%), Työlliset opiskelijat vuosi valmistumisen jälkeen (%), Päätoimiset opiskelijat vuosi valmistumisen jälkeen (%), Työttömät vuosi valmistumisen jälkeen (%) ja Muut vuosi valmistumisen jälkeen (%)"
   ]
  },
  {
   "cell_type": "code",
   "execution_count": 68,
   "id": "92b65f51",
   "metadata": {},
   "outputs": [
    {
     "name": "stdout",
     "output_type": "stream",
     "text": [
      "<class 'pandas.core.frame.DataFrame'>\n",
      "RangeIndex: 252 entries, 0 to 251\n",
      "Data columns (total 7 columns):\n",
      " #   Column                                                   Non-Null Count  Dtype \n",
      "---  ------                                                   --------------  ----- \n",
      " 0   Vuosi                                                    252 non-null    int64 \n",
      " 1   Asuinmaakunta                                            252 non-null    object\n",
      " 2   Päätoimiset työlliset vuosi valmistumisen jälkeen (%)    252 non-null    object\n",
      " 3   Työlliset opiskelijat vuosi valmistumisen jälkeen (%)    252 non-null    object\n",
      " 4   Päätoimiset opiskelijat vuosi valmistumisen jälkeen (%)  252 non-null    object\n",
      " 5   Työttömät vuosi valmistumisen jälkeen (%)                252 non-null    object\n",
      " 6   Muut vuosi valmistumisen jälkeen (%)                     252 non-null    object\n",
      "dtypes: int64(1), object(6)\n",
      "memory usage: 13.9+ KB\n"
     ]
    }
   ],
   "source": [
    "df_selected = df[['Vuosi', 'Asuinmaakunta', 'Päätoimiset työlliset vuosi valmistumisen jälkeen (%)', 'Työlliset opiskelijat vuosi valmistumisen jälkeen (%)', 'Päätoimiset opiskelijat vuosi valmistumisen jälkeen (%)', 'Työttömät vuosi valmistumisen jälkeen (%)', 'Muut vuosi valmistumisen jälkeen (%)']].copy()\n",
    "df_selected.dropna() # drops rows with null values\n",
    "df_selected.info()"
   ]
  },
  {
   "cell_type": "markdown",
   "id": "8162652f",
   "metadata": {},
   "source": [
    "The data, which has tekstual values e.g. labels needs to be converted into numbers so that machine learning algorithm can use them.\n",
    "\n",
    "[Label encoding](https://vitalflux.com/labelencoder-example-single-multiple-columns/#:~:text=Label%20encoding%20technique%20is%20implemented%20using%20sklearn%20LabelEncoder.,single%20and%20multiple%20columns%20in%20Python%20Pandas%20Dataframe.)"
   ]
  },
  {
   "cell_type": "markdown",
   "id": "4fb929a6",
   "metadata": {},
   "source": [
    "The regions (asuinmaakunta) labels should be converted into numbers."
   ]
  },
  {
   "cell_type": "code",
   "execution_count": 69,
   "id": "29a98947",
   "metadata": {},
   "outputs": [
    {
     "data": {
      "application/vnd.microsoft.datawrangler.viewer.v0+json": {
       "columns": [
        {
         "name": "index",
         "rawType": "int64",
         "type": "integer"
        },
        {
         "name": "Vuosi",
         "rawType": "int64",
         "type": "integer"
        },
        {
         "name": "Asuinmaakunta",
         "rawType": "object",
         "type": "string"
        },
        {
         "name": "Päätoimiset työlliset vuosi valmistumisen jälkeen (%)",
         "rawType": "object",
         "type": "string"
        },
        {
         "name": "Työlliset opiskelijat vuosi valmistumisen jälkeen (%)",
         "rawType": "object",
         "type": "string"
        },
        {
         "name": "Päätoimiset opiskelijat vuosi valmistumisen jälkeen (%)",
         "rawType": "object",
         "type": "string"
        },
        {
         "name": "Työttömät vuosi valmistumisen jälkeen (%)",
         "rawType": "object",
         "type": "string"
        },
        {
         "name": "Muut vuosi valmistumisen jälkeen (%)",
         "rawType": "object",
         "type": "string"
        }
       ],
       "conversionMethod": "pd.DataFrame",
       "ref": "1e9701cc-eb1d-45eb-b511-397db5337e03",
       "rows": [
        [
         "0",
         "2020",
         "Koko maa",
         "30",
         "6",
         "18",
         "33",
         "14"
        ],
        [
         "1",
         "2020",
         "Uusimaa",
         "38",
         "7",
         "12",
         "28",
         "14"
        ],
        [
         "2",
         "2020",
         "Varsinais-Suomi",
         "27",
         "5",
         "21",
         "31",
         "17"
        ],
        [
         "3",
         "2020",
         "Satakunta",
         "24",
         "8",
         "10",
         "35",
         "22"
        ],
        [
         "4",
         "2020",
         "Kanta-Häme",
         "26",
         "5",
         "18",
         "34",
         "16"
        ]
       ],
       "shape": {
        "columns": 7,
        "rows": 5
       }
      },
      "text/html": [
       "<div>\n",
       "<style scoped>\n",
       "    .dataframe tbody tr th:only-of-type {\n",
       "        vertical-align: middle;\n",
       "    }\n",
       "\n",
       "    .dataframe tbody tr th {\n",
       "        vertical-align: top;\n",
       "    }\n",
       "\n",
       "    .dataframe thead th {\n",
       "        text-align: right;\n",
       "    }\n",
       "</style>\n",
       "<table border=\"1\" class=\"dataframe\">\n",
       "  <thead>\n",
       "    <tr style=\"text-align: right;\">\n",
       "      <th></th>\n",
       "      <th>Vuosi</th>\n",
       "      <th>Asuinmaakunta</th>\n",
       "      <th>Päätoimiset työlliset vuosi valmistumisen jälkeen (%)</th>\n",
       "      <th>Työlliset opiskelijat vuosi valmistumisen jälkeen (%)</th>\n",
       "      <th>Päätoimiset opiskelijat vuosi valmistumisen jälkeen (%)</th>\n",
       "      <th>Työttömät vuosi valmistumisen jälkeen (%)</th>\n",
       "      <th>Muut vuosi valmistumisen jälkeen (%)</th>\n",
       "    </tr>\n",
       "  </thead>\n",
       "  <tbody>\n",
       "    <tr>\n",
       "      <th>0</th>\n",
       "      <td>2020</td>\n",
       "      <td>Koko maa</td>\n",
       "      <td>30</td>\n",
       "      <td>6</td>\n",
       "      <td>18</td>\n",
       "      <td>33</td>\n",
       "      <td>14</td>\n",
       "    </tr>\n",
       "    <tr>\n",
       "      <th>1</th>\n",
       "      <td>2020</td>\n",
       "      <td>Uusimaa</td>\n",
       "      <td>38</td>\n",
       "      <td>7</td>\n",
       "      <td>12</td>\n",
       "      <td>28</td>\n",
       "      <td>14</td>\n",
       "    </tr>\n",
       "    <tr>\n",
       "      <th>2</th>\n",
       "      <td>2020</td>\n",
       "      <td>Varsinais-Suomi</td>\n",
       "      <td>27</td>\n",
       "      <td>5</td>\n",
       "      <td>21</td>\n",
       "      <td>31</td>\n",
       "      <td>17</td>\n",
       "    </tr>\n",
       "    <tr>\n",
       "      <th>3</th>\n",
       "      <td>2020</td>\n",
       "      <td>Satakunta</td>\n",
       "      <td>24</td>\n",
       "      <td>8</td>\n",
       "      <td>10</td>\n",
       "      <td>35</td>\n",
       "      <td>22</td>\n",
       "    </tr>\n",
       "    <tr>\n",
       "      <th>4</th>\n",
       "      <td>2020</td>\n",
       "      <td>Kanta-Häme</td>\n",
       "      <td>26</td>\n",
       "      <td>5</td>\n",
       "      <td>18</td>\n",
       "      <td>34</td>\n",
       "      <td>16</td>\n",
       "    </tr>\n",
       "  </tbody>\n",
       "</table>\n",
       "</div>"
      ],
      "text/plain": [
       "   Vuosi    Asuinmaakunta  \\\n",
       "0   2020         Koko maa   \n",
       "1   2020          Uusimaa   \n",
       "2   2020  Varsinais-Suomi   \n",
       "3   2020        Satakunta   \n",
       "4   2020       Kanta-Häme   \n",
       "\n",
       "  Päätoimiset työlliset vuosi valmistumisen jälkeen (%)  \\\n",
       "0                                                 30      \n",
       "1                                                 38      \n",
       "2                                                 27      \n",
       "3                                                 24      \n",
       "4                                                 26      \n",
       "\n",
       "  Työlliset opiskelijat vuosi valmistumisen jälkeen (%)  \\\n",
       "0                                                  6      \n",
       "1                                                  7      \n",
       "2                                                  5      \n",
       "3                                                  8      \n",
       "4                                                  5      \n",
       "\n",
       "  Päätoimiset opiskelijat vuosi valmistumisen jälkeen (%)  \\\n",
       "0                                                 18        \n",
       "1                                                 12        \n",
       "2                                                 21        \n",
       "3                                                 10        \n",
       "4                                                 18        \n",
       "\n",
       "  Työttömät vuosi valmistumisen jälkeen (%)  \\\n",
       "0                                        33   \n",
       "1                                        28   \n",
       "2                                        31   \n",
       "3                                        35   \n",
       "4                                        34   \n",
       "\n",
       "  Muut vuosi valmistumisen jälkeen (%)  \n",
       "0                                   14  \n",
       "1                                   14  \n",
       "2                                   17  \n",
       "3                                   22  \n",
       "4                                   16  "
      ]
     },
     "execution_count": 69,
     "metadata": {},
     "output_type": "execute_result"
    }
   ],
   "source": [
    "df_selected.head()"
   ]
  },
  {
   "cell_type": "code",
   "execution_count": 70,
   "id": "1d769cb6",
   "metadata": {},
   "outputs": [
    {
     "name": "stdout",
     "output_type": "stream",
     "text": [
      "[ 8 19 20 17  5 11 16  9  1  3 15 13  7  2 12  6 14  4 10  0 18  8 19 20\n",
      " 17  5 11 16  9  1  3 15 13  7  2 12  6 14  4 10  0 18  8 19 20 17  5 11\n",
      " 16  9  1  3 15 13  7  2 12  6 14  4 10  0 18  8 19 20 17  5 11 16  9  1\n",
      "  3 15 13  7  2 12  6 14  4 10  0 18  8 19 20 17  5 11 16  9  1  3 15 13\n",
      "  7  2 12  6 14  4 10  0 18  8 19 20 17  5 11 16  9  1  3 15 13  7  2 12\n",
      "  6 14  4 10  0 18  8 19 20 17  5 11 16  9  1  3 15 13  7  2 12  6 14  4\n",
      " 10  0 18  8 19 20 17  5 11 16  9  1  3 15 13  7  2 12  6 14  4 10  0 18\n",
      "  8 19 20 17  5 11 16  9  1  3 15 13  7  2 12  6 14  4 10  0 18  8 19 20\n",
      " 17  5 11 16  9  1  3 15 13  7  2 12  6 14  4 10  0 18  8 19 20 17  5 11\n",
      " 16  9  1  3 15 13  7  2 12  6 14  4 10  0 18  8 19 20 17  5 11 16  9  1\n",
      "  3 15 13  7  2 12  6 14  4 10  0 18]\n"
     ]
    },
    {
     "data": {
      "application/vnd.microsoft.datawrangler.viewer.v0+json": {
       "columns": [
        {
         "name": "index",
         "rawType": "int64",
         "type": "integer"
        },
        {
         "name": "Vuosi",
         "rawType": "int64",
         "type": "integer"
        },
        {
         "name": "Asuinmaakunta",
         "rawType": "int64",
         "type": "integer"
        },
        {
         "name": "Päätoimiset työlliset vuosi valmistumisen jälkeen (%)",
         "rawType": "object",
         "type": "string"
        },
        {
         "name": "Työlliset opiskelijat vuosi valmistumisen jälkeen (%)",
         "rawType": "object",
         "type": "string"
        },
        {
         "name": "Päätoimiset opiskelijat vuosi valmistumisen jälkeen (%)",
         "rawType": "object",
         "type": "string"
        },
        {
         "name": "Työttömät vuosi valmistumisen jälkeen (%)",
         "rawType": "object",
         "type": "string"
        },
        {
         "name": "Muut vuosi valmistumisen jälkeen (%)",
         "rawType": "object",
         "type": "string"
        }
       ],
       "conversionMethod": "pd.DataFrame",
       "ref": "6e4a5f57-6b5e-4868-9e3c-c6275738decc",
       "rows": [
        [
         "0",
         "2020",
         "8",
         "30",
         "6",
         "18",
         "33",
         "14"
        ],
        [
         "1",
         "2020",
         "19",
         "38",
         "7",
         "12",
         "28",
         "14"
        ],
        [
         "2",
         "2020",
         "20",
         "27",
         "5",
         "21",
         "31",
         "17"
        ],
        [
         "3",
         "2020",
         "17",
         "24",
         "8",
         "10",
         "35",
         "22"
        ],
        [
         "4",
         "2020",
         "5",
         "26",
         "5",
         "18",
         "34",
         "16"
        ]
       ],
       "shape": {
        "columns": 7,
        "rows": 5
       }
      },
      "text/html": [
       "<div>\n",
       "<style scoped>\n",
       "    .dataframe tbody tr th:only-of-type {\n",
       "        vertical-align: middle;\n",
       "    }\n",
       "\n",
       "    .dataframe tbody tr th {\n",
       "        vertical-align: top;\n",
       "    }\n",
       "\n",
       "    .dataframe thead th {\n",
       "        text-align: right;\n",
       "    }\n",
       "</style>\n",
       "<table border=\"1\" class=\"dataframe\">\n",
       "  <thead>\n",
       "    <tr style=\"text-align: right;\">\n",
       "      <th></th>\n",
       "      <th>Vuosi</th>\n",
       "      <th>Asuinmaakunta</th>\n",
       "      <th>Päätoimiset työlliset vuosi valmistumisen jälkeen (%)</th>\n",
       "      <th>Työlliset opiskelijat vuosi valmistumisen jälkeen (%)</th>\n",
       "      <th>Päätoimiset opiskelijat vuosi valmistumisen jälkeen (%)</th>\n",
       "      <th>Työttömät vuosi valmistumisen jälkeen (%)</th>\n",
       "      <th>Muut vuosi valmistumisen jälkeen (%)</th>\n",
       "    </tr>\n",
       "  </thead>\n",
       "  <tbody>\n",
       "    <tr>\n",
       "      <th>0</th>\n",
       "      <td>2020</td>\n",
       "      <td>8</td>\n",
       "      <td>30</td>\n",
       "      <td>6</td>\n",
       "      <td>18</td>\n",
       "      <td>33</td>\n",
       "      <td>14</td>\n",
       "    </tr>\n",
       "    <tr>\n",
       "      <th>1</th>\n",
       "      <td>2020</td>\n",
       "      <td>19</td>\n",
       "      <td>38</td>\n",
       "      <td>7</td>\n",
       "      <td>12</td>\n",
       "      <td>28</td>\n",
       "      <td>14</td>\n",
       "    </tr>\n",
       "    <tr>\n",
       "      <th>2</th>\n",
       "      <td>2020</td>\n",
       "      <td>20</td>\n",
       "      <td>27</td>\n",
       "      <td>5</td>\n",
       "      <td>21</td>\n",
       "      <td>31</td>\n",
       "      <td>17</td>\n",
       "    </tr>\n",
       "    <tr>\n",
       "      <th>3</th>\n",
       "      <td>2020</td>\n",
       "      <td>17</td>\n",
       "      <td>24</td>\n",
       "      <td>8</td>\n",
       "      <td>10</td>\n",
       "      <td>35</td>\n",
       "      <td>22</td>\n",
       "    </tr>\n",
       "    <tr>\n",
       "      <th>4</th>\n",
       "      <td>2020</td>\n",
       "      <td>5</td>\n",
       "      <td>26</td>\n",
       "      <td>5</td>\n",
       "      <td>18</td>\n",
       "      <td>34</td>\n",
       "      <td>16</td>\n",
       "    </tr>\n",
       "  </tbody>\n",
       "</table>\n",
       "</div>"
      ],
      "text/plain": [
       "   Vuosi  Asuinmaakunta Päätoimiset työlliset vuosi valmistumisen jälkeen (%)  \\\n",
       "0   2020              8                                                 30      \n",
       "1   2020             19                                                 38      \n",
       "2   2020             20                                                 27      \n",
       "3   2020             17                                                 24      \n",
       "4   2020              5                                                 26      \n",
       "\n",
       "  Työlliset opiskelijat vuosi valmistumisen jälkeen (%)  \\\n",
       "0                                                  6      \n",
       "1                                                  7      \n",
       "2                                                  5      \n",
       "3                                                  8      \n",
       "4                                                  5      \n",
       "\n",
       "  Päätoimiset opiskelijat vuosi valmistumisen jälkeen (%)  \\\n",
       "0                                                 18        \n",
       "1                                                 12        \n",
       "2                                                 21        \n",
       "3                                                 10        \n",
       "4                                                 18        \n",
       "\n",
       "  Työttömät vuosi valmistumisen jälkeen (%)  \\\n",
       "0                                        33   \n",
       "1                                        28   \n",
       "2                                        31   \n",
       "3                                        35   \n",
       "4                                        34   \n",
       "\n",
       "  Muut vuosi valmistumisen jälkeen (%)  \n",
       "0                                   14  \n",
       "1                                   14  \n",
       "2                                   17  \n",
       "3                                   22  \n",
       "4                                   16  "
      ]
     },
     "execution_count": 70,
     "metadata": {},
     "output_type": "execute_result"
    }
   ],
   "source": [
    "le=preprocessing.LabelEncoder()\n",
    "arr=le.fit_transform(df_selected['Asuinmaakunta'])\n",
    "df_selected['Asuinmaakunta']=arr\n",
    "print(arr)\n",
    "df_selected.head()"
   ]
  },
  {
   "cell_type": "markdown",
   "id": "b46bb007",
   "metadata": {},
   "source": [
    "### Linear regression"
   ]
  },
  {
   "cell_type": "code",
   "execution_count": 71,
   "id": "e5e67ec0",
   "metadata": {},
   "outputs": [
    {
     "ename": "ConversionError",
     "evalue": "Failed to convert value(s) to axis units: array(['.', '61'], dtype=object)",
     "output_type": "error",
     "traceback": [
      "\u001b[1;31m---------------------------------------------------------------------------\u001b[0m",
      "\u001b[1;31mValueError\u001b[0m                                Traceback (most recent call last)",
      "File \u001b[1;32mc:\\Users\\tiina.partanen\\Miniconda3\\lib\\site-packages\\matplotlib\\axis.py:1813\u001b[0m, in \u001b[0;36mAxis.convert_units\u001b[1;34m(self, x)\u001b[0m\n\u001b[0;32m   1812\u001b[0m \u001b[38;5;28;01mtry\u001b[39;00m:\n\u001b[1;32m-> 1813\u001b[0m     ret \u001b[38;5;241m=\u001b[39m \u001b[38;5;28;43mself\u001b[39;49m\u001b[38;5;241;43m.\u001b[39;49m\u001b[43mconverter\u001b[49m\u001b[38;5;241;43m.\u001b[39;49m\u001b[43mconvert\u001b[49m\u001b[43m(\u001b[49m\u001b[43mx\u001b[49m\u001b[43m,\u001b[49m\u001b[43m \u001b[49m\u001b[38;5;28;43mself\u001b[39;49m\u001b[38;5;241;43m.\u001b[39;49m\u001b[43munits\u001b[49m\u001b[43m,\u001b[49m\u001b[43m \u001b[49m\u001b[38;5;28;43mself\u001b[39;49m\u001b[43m)\u001b[49m\n\u001b[0;32m   1814\u001b[0m \u001b[38;5;28;01mexcept\u001b[39;00m \u001b[38;5;167;01mException\u001b[39;00m \u001b[38;5;28;01mas\u001b[39;00m e:\n",
      "File \u001b[1;32mc:\\Users\\tiina.partanen\\Miniconda3\\lib\\site-packages\\matplotlib\\category.py:49\u001b[0m, in \u001b[0;36mStrCategoryConverter.convert\u001b[1;34m(value, unit, axis)\u001b[0m\n\u001b[0;32m     48\u001b[0m \u001b[38;5;28;01mif\u001b[39;00m unit \u001b[38;5;129;01mis\u001b[39;00m \u001b[38;5;28;01mNone\u001b[39;00m:\n\u001b[1;32m---> 49\u001b[0m     \u001b[38;5;28;01mraise\u001b[39;00m \u001b[38;5;167;01mValueError\u001b[39;00m(\n\u001b[0;32m     50\u001b[0m         \u001b[38;5;124m'\u001b[39m\u001b[38;5;124mMissing category information for StrCategoryConverter; \u001b[39m\u001b[38;5;124m'\u001b[39m\n\u001b[0;32m     51\u001b[0m         \u001b[38;5;124m'\u001b[39m\u001b[38;5;124mthis might be caused by unintendedly mixing categorical and \u001b[39m\u001b[38;5;124m'\u001b[39m\n\u001b[0;32m     52\u001b[0m         \u001b[38;5;124m'\u001b[39m\u001b[38;5;124mnumeric data\u001b[39m\u001b[38;5;124m'\u001b[39m)\n\u001b[0;32m     53\u001b[0m StrCategoryConverter\u001b[38;5;241m.\u001b[39m_validate_unit(unit)\n",
      "\u001b[1;31mValueError\u001b[0m: Missing category information for StrCategoryConverter; this might be caused by unintendedly mixing categorical and numeric data",
      "\nThe above exception was the direct cause of the following exception:\n",
      "\u001b[1;31mConversionError\u001b[0m                           Traceback (most recent call last)",
      "Cell \u001b[1;32mIn[71], line 5\u001b[0m\n\u001b[0;32m      3\u001b[0m X\u001b[38;5;241m=\u001b[39mdf_selected\u001b[38;5;241m.\u001b[39mdrop(columns\u001b[38;5;241m=\u001b[39m\u001b[38;5;124m'\u001b[39m\u001b[38;5;124mTyöttömät vuosi valmistumisen jälkeen (\u001b[39m\u001b[38;5;124m%\u001b[39m\u001b[38;5;124m)\u001b[39m\u001b[38;5;124m'\u001b[39m)\n\u001b[0;32m      4\u001b[0m fig, ax \u001b[38;5;241m=\u001b[39m plt\u001b[38;5;241m.\u001b[39msubplots(figsize\u001b[38;5;241m=\u001b[39m(\u001b[38;5;241m10\u001b[39m,\u001b[38;5;241m20\u001b[39m))\n\u001b[1;32m----> 5\u001b[0m \u001b[43max\u001b[49m\u001b[38;5;241;43m.\u001b[39;49m\u001b[43mplot\u001b[49m\u001b[43m(\u001b[49m\u001b[43m[\u001b[49m\u001b[43mX\u001b[49m\u001b[38;5;241;43m.\u001b[39;49m\u001b[43mmin\u001b[49m\u001b[43m(\u001b[49m\u001b[43m)\u001b[49m\u001b[43m,\u001b[49m\u001b[43m \u001b[49m\u001b[43mX\u001b[49m\u001b[38;5;241;43m.\u001b[39;49m\u001b[43mmax\u001b[49m\u001b[43m(\u001b[49m\u001b[43m)\u001b[49m\u001b[43m]\u001b[49m\u001b[43m,\u001b[49m\u001b[43m[\u001b[49m\u001b[43my\u001b[49m\u001b[38;5;241;43m.\u001b[39;49m\u001b[43mmin\u001b[49m\u001b[43m(\u001b[49m\u001b[43m)\u001b[49m\u001b[43m,\u001b[49m\u001b[43my\u001b[49m\u001b[38;5;241;43m.\u001b[39;49m\u001b[43mmax\u001b[49m\u001b[43m(\u001b[49m\u001b[43m)\u001b[49m\u001b[43m]\u001b[49m\u001b[43m,\u001b[49m\u001b[43m \u001b[49m\u001b[38;5;124;43m'\u001b[39;49m\u001b[38;5;124;43mk--\u001b[39;49m\u001b[38;5;124;43m'\u001b[39;49m\u001b[43m,\u001b[49m\u001b[43m \u001b[49m\u001b[43mlw\u001b[49m\u001b[38;5;241;43m=\u001b[39;49m\u001b[38;5;241;43m4\u001b[39;49m\u001b[43m)\u001b[49m\n",
      "File \u001b[1;32mc:\\Users\\tiina.partanen\\Miniconda3\\lib\\site-packages\\matplotlib\\axes\\_axes.py:1781\u001b[0m, in \u001b[0;36mAxes.plot\u001b[1;34m(self, scalex, scaley, data, *args, **kwargs)\u001b[0m\n\u001b[0;32m   1779\u001b[0m lines \u001b[38;5;241m=\u001b[39m [\u001b[38;5;241m*\u001b[39m\u001b[38;5;28mself\u001b[39m\u001b[38;5;241m.\u001b[39m_get_lines(\u001b[38;5;28mself\u001b[39m, \u001b[38;5;241m*\u001b[39margs, data\u001b[38;5;241m=\u001b[39mdata, \u001b[38;5;241m*\u001b[39m\u001b[38;5;241m*\u001b[39mkwargs)]\n\u001b[0;32m   1780\u001b[0m \u001b[38;5;28;01mfor\u001b[39;00m line \u001b[38;5;129;01min\u001b[39;00m lines:\n\u001b[1;32m-> 1781\u001b[0m     \u001b[38;5;28;43mself\u001b[39;49m\u001b[38;5;241;43m.\u001b[39;49m\u001b[43madd_line\u001b[49m\u001b[43m(\u001b[49m\u001b[43mline\u001b[49m\u001b[43m)\u001b[49m\n\u001b[0;32m   1782\u001b[0m \u001b[38;5;28;01mif\u001b[39;00m scalex:\n\u001b[0;32m   1783\u001b[0m     \u001b[38;5;28mself\u001b[39m\u001b[38;5;241m.\u001b[39m_request_autoscale_view(\u001b[38;5;124m\"\u001b[39m\u001b[38;5;124mx\u001b[39m\u001b[38;5;124m\"\u001b[39m)\n",
      "File \u001b[1;32mc:\\Users\\tiina.partanen\\Miniconda3\\lib\\site-packages\\matplotlib\\axes\\_base.py:2339\u001b[0m, in \u001b[0;36m_AxesBase.add_line\u001b[1;34m(self, line)\u001b[0m\n\u001b[0;32m   2336\u001b[0m \u001b[38;5;28;01mif\u001b[39;00m line\u001b[38;5;241m.\u001b[39mget_clip_path() \u001b[38;5;129;01mis\u001b[39;00m \u001b[38;5;28;01mNone\u001b[39;00m:\n\u001b[0;32m   2337\u001b[0m     line\u001b[38;5;241m.\u001b[39mset_clip_path(\u001b[38;5;28mself\u001b[39m\u001b[38;5;241m.\u001b[39mpatch)\n\u001b[1;32m-> 2339\u001b[0m \u001b[38;5;28;43mself\u001b[39;49m\u001b[38;5;241;43m.\u001b[39;49m\u001b[43m_update_line_limits\u001b[49m\u001b[43m(\u001b[49m\u001b[43mline\u001b[49m\u001b[43m)\u001b[49m\n\u001b[0;32m   2340\u001b[0m \u001b[38;5;28;01mif\u001b[39;00m \u001b[38;5;129;01mnot\u001b[39;00m line\u001b[38;5;241m.\u001b[39mget_label():\n\u001b[0;32m   2341\u001b[0m     line\u001b[38;5;241m.\u001b[39mset_label(\u001b[38;5;124mf\u001b[39m\u001b[38;5;124m'\u001b[39m\u001b[38;5;124m_child\u001b[39m\u001b[38;5;132;01m{\u001b[39;00m\u001b[38;5;28mlen\u001b[39m(\u001b[38;5;28mself\u001b[39m\u001b[38;5;241m.\u001b[39m_children)\u001b[38;5;132;01m}\u001b[39;00m\u001b[38;5;124m'\u001b[39m)\n",
      "File \u001b[1;32mc:\\Users\\tiina.partanen\\Miniconda3\\lib\\site-packages\\matplotlib\\axes\\_base.py:2362\u001b[0m, in \u001b[0;36m_AxesBase._update_line_limits\u001b[1;34m(self, line)\u001b[0m\n\u001b[0;32m   2358\u001b[0m \u001b[38;5;28;01mdef\u001b[39;00m\u001b[38;5;250m \u001b[39m\u001b[38;5;21m_update_line_limits\u001b[39m(\u001b[38;5;28mself\u001b[39m, line):\n\u001b[0;32m   2359\u001b[0m \u001b[38;5;250m    \u001b[39m\u001b[38;5;124;03m\"\"\"\u001b[39;00m\n\u001b[0;32m   2360\u001b[0m \u001b[38;5;124;03m    Figures out the data limit of the given line, updating self.dataLim.\u001b[39;00m\n\u001b[0;32m   2361\u001b[0m \u001b[38;5;124;03m    \"\"\"\u001b[39;00m\n\u001b[1;32m-> 2362\u001b[0m     path \u001b[38;5;241m=\u001b[39m \u001b[43mline\u001b[49m\u001b[38;5;241;43m.\u001b[39;49m\u001b[43mget_path\u001b[49m\u001b[43m(\u001b[49m\u001b[43m)\u001b[49m\n\u001b[0;32m   2363\u001b[0m     \u001b[38;5;28;01mif\u001b[39;00m path\u001b[38;5;241m.\u001b[39mvertices\u001b[38;5;241m.\u001b[39msize \u001b[38;5;241m==\u001b[39m \u001b[38;5;241m0\u001b[39m:\n\u001b[0;32m   2364\u001b[0m         \u001b[38;5;28;01mreturn\u001b[39;00m\n",
      "File \u001b[1;32mc:\\Users\\tiina.partanen\\Miniconda3\\lib\\site-packages\\matplotlib\\lines.py:1037\u001b[0m, in \u001b[0;36mLine2D.get_path\u001b[1;34m(self)\u001b[0m\n\u001b[0;32m   1035\u001b[0m \u001b[38;5;250m\u001b[39m\u001b[38;5;124;03m\"\"\"Return the `~matplotlib.path.Path` associated with this line.\"\"\"\u001b[39;00m\n\u001b[0;32m   1036\u001b[0m \u001b[38;5;28;01mif\u001b[39;00m \u001b[38;5;28mself\u001b[39m\u001b[38;5;241m.\u001b[39m_invalidy \u001b[38;5;129;01mor\u001b[39;00m \u001b[38;5;28mself\u001b[39m\u001b[38;5;241m.\u001b[39m_invalidx:\n\u001b[1;32m-> 1037\u001b[0m     \u001b[38;5;28;43mself\u001b[39;49m\u001b[38;5;241;43m.\u001b[39;49m\u001b[43mrecache\u001b[49m\u001b[43m(\u001b[49m\u001b[43m)\u001b[49m\n\u001b[0;32m   1038\u001b[0m \u001b[38;5;28;01mreturn\u001b[39;00m \u001b[38;5;28mself\u001b[39m\u001b[38;5;241m.\u001b[39m_path\n",
      "File \u001b[1;32mc:\\Users\\tiina.partanen\\Miniconda3\\lib\\site-packages\\matplotlib\\lines.py:673\u001b[0m, in \u001b[0;36mLine2D.recache\u001b[1;34m(self, always)\u001b[0m\n\u001b[0;32m    671\u001b[0m \u001b[38;5;28;01mdef\u001b[39;00m\u001b[38;5;250m \u001b[39m\u001b[38;5;21mrecache\u001b[39m(\u001b[38;5;28mself\u001b[39m, always\u001b[38;5;241m=\u001b[39m\u001b[38;5;28;01mFalse\u001b[39;00m):\n\u001b[0;32m    672\u001b[0m     \u001b[38;5;28;01mif\u001b[39;00m always \u001b[38;5;129;01mor\u001b[39;00m \u001b[38;5;28mself\u001b[39m\u001b[38;5;241m.\u001b[39m_invalidx:\n\u001b[1;32m--> 673\u001b[0m         xconv \u001b[38;5;241m=\u001b[39m \u001b[38;5;28;43mself\u001b[39;49m\u001b[38;5;241;43m.\u001b[39;49m\u001b[43mconvert_xunits\u001b[49m\u001b[43m(\u001b[49m\u001b[38;5;28;43mself\u001b[39;49m\u001b[38;5;241;43m.\u001b[39;49m\u001b[43m_xorig\u001b[49m\u001b[43m)\u001b[49m\n\u001b[0;32m    674\u001b[0m         x \u001b[38;5;241m=\u001b[39m _to_unmasked_float_array(xconv)\u001b[38;5;241m.\u001b[39mravel()\n\u001b[0;32m    675\u001b[0m     \u001b[38;5;28;01melse\u001b[39;00m:\n",
      "File \u001b[1;32mc:\\Users\\tiina.partanen\\Miniconda3\\lib\\site-packages\\matplotlib\\artist.py:279\u001b[0m, in \u001b[0;36mArtist.convert_xunits\u001b[1;34m(self, x)\u001b[0m\n\u001b[0;32m    277\u001b[0m \u001b[38;5;28;01mif\u001b[39;00m ax \u001b[38;5;129;01mis\u001b[39;00m \u001b[38;5;28;01mNone\u001b[39;00m \u001b[38;5;129;01mor\u001b[39;00m ax\u001b[38;5;241m.\u001b[39mxaxis \u001b[38;5;129;01mis\u001b[39;00m \u001b[38;5;28;01mNone\u001b[39;00m:\n\u001b[0;32m    278\u001b[0m     \u001b[38;5;28;01mreturn\u001b[39;00m x\n\u001b[1;32m--> 279\u001b[0m \u001b[38;5;28;01mreturn\u001b[39;00m \u001b[43max\u001b[49m\u001b[38;5;241;43m.\u001b[39;49m\u001b[43mxaxis\u001b[49m\u001b[38;5;241;43m.\u001b[39;49m\u001b[43mconvert_units\u001b[49m\u001b[43m(\u001b[49m\u001b[43mx\u001b[49m\u001b[43m)\u001b[49m\n",
      "File \u001b[1;32mc:\\Users\\tiina.partanen\\Miniconda3\\lib\\site-packages\\matplotlib\\axis.py:1815\u001b[0m, in \u001b[0;36mAxis.convert_units\u001b[1;34m(self, x)\u001b[0m\n\u001b[0;32m   1813\u001b[0m     ret \u001b[38;5;241m=\u001b[39m \u001b[38;5;28mself\u001b[39m\u001b[38;5;241m.\u001b[39mconverter\u001b[38;5;241m.\u001b[39mconvert(x, \u001b[38;5;28mself\u001b[39m\u001b[38;5;241m.\u001b[39munits, \u001b[38;5;28mself\u001b[39m)\n\u001b[0;32m   1814\u001b[0m \u001b[38;5;28;01mexcept\u001b[39;00m \u001b[38;5;167;01mException\u001b[39;00m \u001b[38;5;28;01mas\u001b[39;00m e:\n\u001b[1;32m-> 1815\u001b[0m     \u001b[38;5;28;01mraise\u001b[39;00m munits\u001b[38;5;241m.\u001b[39mConversionError(\u001b[38;5;124m'\u001b[39m\u001b[38;5;124mFailed to convert value(s) to axis \u001b[39m\u001b[38;5;124m'\u001b[39m\n\u001b[0;32m   1816\u001b[0m                                  \u001b[38;5;124mf\u001b[39m\u001b[38;5;124m'\u001b[39m\u001b[38;5;124munits: \u001b[39m\u001b[38;5;132;01m{\u001b[39;00mx\u001b[38;5;132;01m!r}\u001b[39;00m\u001b[38;5;124m'\u001b[39m) \u001b[38;5;28;01mfrom\u001b[39;00m\u001b[38;5;250m \u001b[39m\u001b[38;5;21;01me\u001b[39;00m\n\u001b[0;32m   1817\u001b[0m \u001b[38;5;28;01mreturn\u001b[39;00m ret\n",
      "\u001b[1;31mConversionError\u001b[0m: Failed to convert value(s) to axis units: array(['.', '61'], dtype=object)"
     ]
    },
    {
     "data": {
      "image/png": "[encoded data removed]",
      "text/plain": [
       "<Figure size 1000x2000 with 1 Axes>"
      ]
     },
     "metadata": {},
     "output_type": "display_data"
    }
   ],
   "source": [
    "lr = linear_model.LinearRegression()\n",
    "y=df_selected['Työttömät vuosi valmistumisen jälkeen (%)']\n",
    "X=df_selected.drop(columns='Työttömät vuosi valmistumisen jälkeen (%)')\n",
    "fig, ax = plt.subplots(figsize=(10,20))\n",
    "ax.plot([X.min(), X.max()],[y.min(),y.max()], 'k--', lw=4)\n"
   ]
  }
 ],
 "metadata": {
  "kernelspec": {
   "display_name": "base",
   "language": "python",
   "name": "python3"
  },
  "language_info": {
   "codemirror_mode": {
    "name": "ipython",
    "version": 3
   },
   "file_extension": ".py",
   "mimetype": "text/x-python",
   "name": "python",
   "nbconvert_exporter": "python",
   "pygments_lexer": "ipython3",
   "version": "3.9.12"
  }
 },
 "nbformat": 4,
 "nbformat_minor": 5
}
